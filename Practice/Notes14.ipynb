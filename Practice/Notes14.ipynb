{
 "cells": [
  {
   "cell_type": "markdown",
   "metadata": {},
   "source": [
    "## Bootstrap - Non-parametric Monte Carlo methods"
   ]
  },
  {
   "cell_type": "code",
   "execution_count": 1,
   "metadata": {},
   "outputs": [],
   "source": [
    "library(bootstrap)\n",
    "library(boot)"
   ]
  },
  {
   "cell_type": "code",
   "execution_count": 2,
   "metadata": {},
   "outputs": [
    {
     "name": "stdout",
     "output_type": "stream",
     "text": [
      "'data.frame':\t15 obs. of  2 variables:\n",
      " $ LSAT: num  576 635 558 578 666 580 555 661 651 605 ...\n",
      " $ GPA : num  3.39 3.3 2.81 3.03 3.44 3.07 3 3.43 3.36 3.13 ...\n"
     ]
    }
   ],
   "source": [
    "data(law)\n",
    "str(law)"
   ]
  },
  {
   "cell_type": "code",
   "execution_count": 3,
   "metadata": {},
   "outputs": [],
   "source": [
    "r.obs = cor(law$LSAT,law$GPA) ### pearson correlation coefficient"
   ]
  },
  {
   "cell_type": "code",
   "execution_count": 4,
   "metadata": {},
   "outputs": [],
   "source": [
    "B = 100\n",
    "r.boot = rep(NA,B)\n",
    "for(b in 1:B){\n",
    "  ind       = sample(1:dim(law)[1],dim(law)[1],replace=TRUE)\n",
    "  law.boot  = law[ind,]\n",
    "  r.boot[b] = cor(law.boot$LSAT,law.boot$GPA)\n",
    "}"
   ]
  },
  {
   "cell_type": "code",
   "execution_count": 5,
   "metadata": {},
   "outputs": [
    {
     "data": {
      "text/html": [
       "0.129823554458915"
      ],
      "text/latex": [
       "0.129823554458915"
      ],
      "text/markdown": [
       "0.129823554458915"
      ],
      "text/plain": [
       "[1] 0.1298236"
      ]
     },
     "metadata": {},
     "output_type": "display_data"
    }
   ],
   "source": [
    "sd(r.boot)\n",
    "bias = mean(r.boot)-r.obs"
   ]
  },
  {
   "cell_type": "code",
   "execution_count": 6,
   "metadata": {},
   "outputs": [],
   "source": [
    "r.boot.func = function(x,i){\n",
    "  cor(x[i,1],x[i,2])\n",
    "}"
   ]
  },
  {
   "cell_type": "code",
   "execution_count": 7,
   "metadata": {},
   "outputs": [],
   "source": [
    "boot1 = boot(data=law,statistic=r.boot.func,R=100)"
   ]
  },
  {
   "cell_type": "markdown",
   "metadata": {},
   "source": [
    "## Bootstrap Confidence Interval"
   ]
  },
  {
   "cell_type": "code",
   "execution_count": 8,
   "metadata": {},
   "outputs": [],
   "source": [
    "boot.ci <- function(x,B=500,R=100,level=0.95,statistics){\n",
    "    \n",
    "    x    = as.matrix(x)\n",
    "    n    = nrow(x)\n",
    "    stat = numeric(B)\n",
    "    se   = numeric(B)\n",
    "    \n",
    "    for(i in 1:B){\n",
    "        ind = sample(1:n,n,replace=TRUE)\n",
    "        y   = x[ind,]\n",
    "        stat[i] = statistics(y)\n",
    "        se[i]   = boot.se(y,R,statistics)\n",
    "    }\n",
    "    \n",
    "    stat0 = statistics(x)\n",
    "    se0   = sd(stat)\n",
    "    tstat = (stat-stat0)/se\n",
    "    alpha = 1-level\n",
    "    Qt    = quantile(tstat,c(alpha/2,1-alpha/2))\n",
    "    names(Qt) = rev(names(Qt))\n",
    "    CI        = rev(stat0 - Qt * se0)\n",
    "    return(CI)\n",
    "}"
   ]
  },
  {
   "cell_type": "code",
   "execution_count": 9,
   "metadata": {},
   "outputs": [],
   "source": [
    "corr.boot.func = function(x){\n",
    "  return(cor(x[,1],x[,2]))\n",
    "}"
   ]
  },
  {
   "cell_type": "code",
   "execution_count": 10,
   "metadata": {},
   "outputs": [],
   "source": [
    "boot.se <- function(x,R=100,f){\n",
    "    x = as.matrix(x)\n",
    "    n = dim(x)[1]\n",
    "    th = replicate(R,expr={\n",
    "        ind = sample(1:n,n,replace=TRUE)\n",
    "        f(x[ind,])\n",
    "    })\n",
    "    return(sd(th))\n",
    "}"
   ]
  },
  {
   "cell_type": "code",
   "execution_count": 11,
   "metadata": {},
   "outputs": [
    {
     "data": {
      "text/html": [
       "<dl class=dl-horizontal>\n",
       "\t<dt>2.5%</dt>\n",
       "\t\t<dd>-0.124672694290733</dd>\n",
       "\t<dt>97.5%</dt>\n",
       "\t\t<dd>0.97541410447582</dd>\n",
       "</dl>\n"
      ],
      "text/latex": [
       "\\begin{description*}\n",
       "\\item[2.5\\textbackslash{}\\%] -0.124672694290733\n",
       "\\item[97.5\\textbackslash{}\\%] 0.97541410447582\n",
       "\\end{description*}\n"
      ],
      "text/markdown": [
       "2.5%\n",
       ":   -0.12467269429073397.5%\n",
       ":   0.97541410447582\n",
       "\n"
      ],
      "text/plain": [
       "      2.5%      97.5% \n",
       "-0.1246727  0.9754141 "
      ]
     },
     "metadata": {},
     "output_type": "display_data"
    }
   ],
   "source": [
    "boot.ci(law,B=500,R=100,level=0.95,statistics=corr.boot.func)"
   ]
  }
 ],
 "metadata": {
  "kernelspec": {
   "display_name": "R",
   "language": "R",
   "name": "ir"
  },
  "language_info": {
   "codemirror_mode": "r",
   "file_extension": ".r",
   "mimetype": "text/x-r-source",
   "name": "R",
   "pygments_lexer": "r",
   "version": "3.5.3"
  }
 },
 "nbformat": 4,
 "nbformat_minor": 2
}
