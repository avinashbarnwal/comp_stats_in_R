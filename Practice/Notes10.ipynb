{
 "cells": [
  {
   "cell_type": "markdown",
   "metadata": {},
   "source": [
    "## Expected Maximization - Algorithm"
   ]
  },
  {
   "cell_type": "markdown",
   "metadata": {},
   "source": [
    "#### Suppose $X_1,X_2,...,X_n$ are iid from a mixture of two normal distribution i.e.,  \n",
    "#### $f_X(x_i) = (1-p_1)N(x_i,\\mu_0,\\sigma^2_0) + (p_1)N(x_i,\\mu_1,\\sigma^2_1)$  \n",
    "#### $l(\\theta) = log(L(\\theta)) = \\sum_{i=1}^n log((1-p_1)N(x_i,\\mu_0,\\sigma^2_0) + (p_1)N(x_i,\\mu_1,\\sigma^2_1))$"
   ]
  },
  {
   "cell_type": "markdown",
   "metadata": {},
   "source": [
    "#### Direct Maximization is difficult"
   ]
  },
  {
   "cell_type": "markdown",
   "metadata": {},
   "source": [
    "Let  \n",
    "$Z_i$ = 0 if $x_i$ is generated from $N(x_i|\\mu_0,\\sigma^2_0)$  \n",
    "$Z_i$ = 1 if $x_i$ is generated from $N(x_i|\\mu_1,\\sigma^2_1)$  \n",
    "$L(\\theta) = \\prod_{i=1}^n((1-p_1)N(x_i,\\mu_0,\\sigma^2_0))^{1-z_i}((p_1)N(x_i,\\mu_1,\\sigma^2_1))^{z_i}$"
   ]
  },
  {
   "cell_type": "markdown",
   "metadata": {},
   "source": [
    "#### Algorithm"
   ]
  },
  {
   "cell_type": "markdown",
   "metadata": {},
   "source": [
    "Since z_i is unknown, replace with its expected value  \n",
    "$\\tau_i(\\theta) = E(Z_i|\\theta,X) = p(Z_i=1|\\theta,X)$  \n",
    "Initialization: Take initial guesses for parameters $\\hat{\\mu_0},\\hat{\\mu_1},\\hat{\\sigma^2_0},\\hat{\\sigma^2_1},\\hat{p_1}$"
   ]
  },
  {
   "cell_type": "markdown",
   "metadata": {},
   "source": [
    "### E-Step: compute"
   ]
  },
  {
   "cell_type": "markdown",
   "metadata": {},
   "source": [
    "$\\hat{\\tau_i(\\theta)} = \\frac{p_1N(x_i|\\mu_1,\\sigma^2_1)}{p_1N(x_i|\\mu_1,\\sigma^2_1)+(1-p_1)N(x_i|\\mu_0,\\sigma^2_1)},i=1,2,...,n$"
   ]
  },
  {
   "cell_type": "markdown",
   "metadata": {},
   "source": [
    "### M-Step: compute"
   ]
  },
  {
   "cell_type": "markdown",
   "metadata": {},
   "source": [
    "Get updated estimates $\\hat{\\mu_0},\\hat{\\mu_1},\\hat{\\sigma^2_0},\\hat{\\sigma^2_1},\\hat{p_1}$"
   ]
  },
  {
   "cell_type": "markdown",
   "metadata": {},
   "source": [
    "$\\hat{\\mu_0} = \\frac{\\sum_{i=1}^n 1-\\hat{\\tau_i(\\theta)}x_i}{\\sum_{i=1}^n(1-\\hat{\\tau_i(\\theta)})}$"
   ]
  },
  {
   "cell_type": "markdown",
   "metadata": {},
   "source": [
    "$\\hat{\\mu_1} = \\frac{\\sum_{i=1}^n \\hat{\\tau_i(\\theta)}x_i}{\\sum_{i=1}^n(\\hat{\\tau_i(\\theta)})}$"
   ]
  },
  {
   "cell_type": "markdown",
   "metadata": {},
   "source": [
    "$\\hat{\\sigma_0} = \\frac{\\sum_{i=1}^n 1-\\hat{\\tau_i(\\theta)}(x_i-\\hat{\\mu_0})^2}{\\sum_{i=1}^n(1-\\hat{\\tau_i(\\theta)})}$"
   ]
  },
  {
   "cell_type": "markdown",
   "metadata": {},
   "source": [
    "$\\hat{\\sigma_1} = \\frac{\\sum_{i=1}^n \\hat{\\tau_i(\\theta)}(x_i-\\hat{\\mu_0})^2}{\\sum_{i=1}^n(\\hat{\\tau_i(\\theta)})}$"
   ]
  },
  {
   "cell_type": "markdown",
   "metadata": {},
   "source": [
    "$\\hat{p_1} = \\frac{\\sum_{i=1}^n \\hat{\\tau_i(\\theta)}x_i}{n}$"
   ]
  },
  {
   "cell_type": "markdown",
   "metadata": {},
   "source": [
    "### Iterate until E and M steps converge"
   ]
  },
  {
   "cell_type": "markdown",
   "metadata": {},
   "source": [
    "# Hidden Markov Model"
   ]
  },
  {
   "cell_type": "markdown",
   "metadata": {},
   "source": [
    "## Hidden State Estimation $(Z_1,Z_2,Z_3,...,Z_n)$"
   ]
  },
  {
   "cell_type": "markdown",
   "metadata": {},
   "source": [
    "## Example "
   ]
  },
  {
   "cell_type": "markdown",
   "metadata": {},
   "source": [
    "Let's take an example, suppose there are 2 hidden states $Z_i$\n",
    "is the health status, where $Z_i$ = sick or healthy for day\n",
    "i, and $X_i$'s are the temperature read from thermometer for\n",
    "day i. You are interested to figure out the health status of\n",
    "a person for day 1 to 100, given that you are only told the\n",
    "temperature of this person for each day."
   ]
  },
  {
   "cell_type": "markdown",
   "metadata": {},
   "source": [
    "A transition probability matrix for this problem will take\n",
    "the form:\n",
    "\\begin{bmatrix}\n",
    "a_{HH}&a_{HS}\\\\\n",
    "a_{SH}&a_{SS}\\\\\n",
    "\\end{bmatrix}"
   ]
  },
  {
   "cell_type": "markdown",
   "metadata": {},
   "source": [
    "E-Step: Compute $P(Z_{i+1},Z_i|X,\\theta)$ using forward backward algorithm(dynamic programming method)"
   ]
  },
  {
   "cell_type": "markdown",
   "metadata": {},
   "source": [
    "M-Step: Based on $P(Z_{i+1},Z_i|X,\\theta)$ , find the transition probabilities $a_{ij}'s, \\mu_{Z_i}, \\sigma_{Z_i}^2$"
   ]
  },
  {
   "cell_type": "markdown",
   "metadata": {},
   "source": [
    "Iterate E-Step and M-Step until converge"
   ]
  }
 ],
 "metadata": {
  "kernelspec": {
   "display_name": "R",
   "language": "R",
   "name": "ir"
  },
  "language_info": {
   "codemirror_mode": "r",
   "file_extension": ".r",
   "mimetype": "text/x-r-source",
   "name": "R",
   "pygments_lexer": "r",
   "version": "3.5.3"
  }
 },
 "nbformat": 4,
 "nbformat_minor": 2
}
