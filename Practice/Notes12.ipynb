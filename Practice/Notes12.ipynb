{
 "cells": [
  {
   "cell_type": "markdown",
   "metadata": {},
   "source": [
    "## Simple Monte Carlo Integration"
   ]
  },
  {
   "cell_type": "markdown",
   "metadata": {},
   "source": [
    "Compute a Monte Carlo estimate \n",
    "$w = \\int_0^1{exp^{-x}}dx$"
   ]
  },
  {
   "cell_type": "code",
   "execution_count": 9,
   "metadata": {},
   "outputs": [],
   "source": [
    "n = 10000\n",
    "x = runif(n)\n",
    "omega.hat = mean(exp(-x))"
   ]
  },
  {
   "cell_type": "markdown",
   "metadata": {},
   "source": [
    "Compute a Monte Carlo estimate \n",
    "$w = \\int_2^4{exp^{-x}}dx$"
   ]
  },
  {
   "cell_type": "code",
   "execution_count": 18,
   "metadata": {},
   "outputs": [],
   "source": [
    "n = 10000\n",
    "x = runif(n)\n",
    "omega.hat = (4-2)*mean(exp(-x))"
   ]
  },
  {
   "cell_type": "markdown",
   "metadata": {},
   "source": [
    "Compute a Monte Carlo estimate \n",
    "$\\phi(-1.645) = \\int_{-\\infty}^{-1.645}{e^{-x}}dx$"
   ]
  },
  {
   "cell_type": "markdown",
   "metadata": {},
   "source": [
    "We will be using indicator method  \n",
    "Generate random variables from underlying distribution and  \n",
    "create indicator based on integral limits  "
   ]
  },
  {
   "cell_type": "code",
   "execution_count": 19,
   "metadata": {},
   "outputs": [],
   "source": [
    "n = 10000\n",
    "x = rnorm(n)\n",
    "y = x<-1.645\n",
    "omega.hat = mean(y)"
   ]
  },
  {
   "cell_type": "markdown",
   "metadata": {},
   "source": [
    "## Efficiency "
   ]
  },
  {
   "cell_type": "markdown",
   "metadata": {},
   "source": [
    "$Var(\\hat{w})= Variance \\ of \\ \\hat{w}$"
   ]
  },
  {
   "cell_type": "markdown",
   "metadata": {},
   "source": [
    "Estimates in the tails of the distribution are less precise"
   ]
  },
  {
   "cell_type": "markdown",
   "metadata": {},
   "source": [
    "## Importance Sampling"
   ]
  },
  {
   "cell_type": "markdown",
   "metadata": {},
   "source": [
    "if h(x) is a density on A, then estimator of  \n",
    "$w = E_h(g(x)f(x)/h(x))$ is   \n",
    "$\\hat{w} = \\sum_{i=1}^n g(x_i)f(x_i)/h(x_i)$"
   ]
  },
  {
   "cell_type": "markdown",
   "metadata": {},
   "source": [
    "h(x) is the envelope and it is such that $variance(\\hat{w})$ is least"
   ]
  },
  {
   "cell_type": "markdown",
   "metadata": {},
   "source": [
    "h(x) is choosen such that the shape of density is close to |g(x)|f(x)"
   ]
  },
  {
   "cell_type": "markdown",
   "metadata": {},
   "source": [
    "#### Calculate \\phi(-2) = P(Z<-2) based on importance sampling"
   ]
  },
  {
   "cell_type": "code",
   "execution_count": 23,
   "metadata": {},
   "outputs": [],
   "source": [
    "n = 10000\n",
    "x = rcauchy(n)\n",
    "gx = x<-2*dnorm(x)/dcauchy(x)\n",
    "omega.hat = mean(gx)\n",
    "var.im.sa = var(gx)"
   ]
  },
  {
   "cell_type": "markdown",
   "metadata": {},
   "source": [
    "#### Calculate \\phi(-2) = P(Z<-2) based on montecarlo"
   ]
  },
  {
   "cell_type": "code",
   "execution_count": 26,
   "metadata": {},
   "outputs": [],
   "source": [
    "n = 10000\n",
    "x = rnorm(n)\n",
    "gx = x<-2\n",
    "omega.hat = mean(gx)\n",
    "var.mon = var(gx)"
   ]
  },
  {
   "cell_type": "markdown",
   "metadata": {},
   "source": [
    "##### Compare var of estimator for efficiency"
   ]
  }
 ],
 "metadata": {
  "kernelspec": {
   "display_name": "R",
   "language": "R",
   "name": "ir"
  },
  "language_info": {
   "codemirror_mode": "r",
   "file_extension": ".r",
   "mimetype": "text/x-r-source",
   "name": "R",
   "pygments_lexer": "r",
   "version": "3.5.3"
  }
 },
 "nbformat": 4,
 "nbformat_minor": 2
}
