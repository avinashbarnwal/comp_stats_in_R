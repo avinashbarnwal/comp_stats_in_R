{
 "cells": [
  {
   "cell_type": "markdown",
   "metadata": {},
   "source": [
    "## One Way Anova"
   ]
  },
  {
   "cell_type": "code",
   "execution_count": 2,
   "metadata": {},
   "outputs": [],
   "source": [
    "y1 = c(18.2,20.1,17.6,16.8,18.8,19.3,19.1)\n",
    "y2 = c(17.4,18.7,19.1,16.4,15.2,18.4)\n",
    "y3 = c(15.2,18.8,17.7,16.5,15.9,17.1,16.3)"
   ]
  },
  {
   "cell_type": "code",
   "execution_count": 8,
   "metadata": {},
   "outputs": [
    {
     "data": {
      "text/html": [
       "<table>\n",
       "<caption>A anova: 2 × 5</caption>\n",
       "<thead>\n",
       "\t<tr><th></th><th scope=col>Df</th><th scope=col>Sum Sq</th><th scope=col>Mean Sq</th><th scope=col>F value</th><th scope=col>Pr(&gt;F)</th></tr>\n",
       "\t<tr><th></th><th scope=col>&lt;int&gt;</th><th scope=col>&lt;dbl&gt;</th><th scope=col>&lt;dbl&gt;</th><th scope=col>&lt;dbl&gt;</th><th scope=col>&lt;dbl&gt;</th></tr>\n",
       "</thead>\n",
       "<tbody>\n",
       "\t<tr><th scope=row>group</th><td> 2</td><td>11.06295</td><td>5.531476</td><td>3.439589</td><td>0.05567383</td></tr>\n",
       "\t<tr><th scope=row>Residuals</th><td>17</td><td>27.33905</td><td>1.608179</td><td>      NA</td><td>        NA</td></tr>\n",
       "</tbody>\n",
       "</table>\n"
      ],
      "text/latex": [
       "A anova: 2 × 5\n",
       "\\begin{tabular}{r|lllll}\n",
       "  & Df & Sum Sq & Mean Sq & F value & Pr(>F)\\\\\n",
       "  & <int> & <dbl> & <dbl> & <dbl> & <dbl>\\\\\n",
       "\\hline\n",
       "\tgroup &  2 & 11.06295 & 5.531476 & 3.439589 & 0.05567383\\\\\n",
       "\tResiduals & 17 & 27.33905 & 1.608179 &       NA &         NA\\\\\n",
       "\\end{tabular}\n"
      ],
      "text/markdown": [
       "\n",
       "A anova: 2 × 5\n",
       "\n",
       "| <!--/--> | Df &lt;int&gt; | Sum Sq &lt;dbl&gt; | Mean Sq &lt;dbl&gt; | F value &lt;dbl&gt; | Pr(&gt;F) &lt;dbl&gt; |\n",
       "|---|---|---|---|---|---|\n",
       "| group |  2 | 11.06295 | 5.531476 | 3.439589 | 0.05567383 |\n",
       "| Residuals | 17 | 27.33905 | 1.608179 |       NA |         NA |\n",
       "\n"
      ],
      "text/plain": [
       "          Df Sum Sq   Mean Sq  F value  Pr(>F)    \n",
       "group      2 11.06295 5.531476 3.439589 0.05567383\n",
       "Residuals 17 27.33905 1.608179       NA         NA"
      ]
     },
     "metadata": {},
     "output_type": "display_data"
    }
   ],
   "source": [
    "y = c(y1,y2,y3)\n",
    "n = c(7,6,7)\n",
    "group = c(rep(1,7),rep(2,6),rep(3,7))\n",
    "ydata = data.frame(y=y,group = factor(group))\n",
    "fit = lm(y~group,data=ydata)\n",
    "anova(fit)"
   ]
  },
  {
   "cell_type": "markdown",
   "metadata": {},
   "source": [
    "## Two Way Anova"
   ]
  },
  {
   "cell_type": "code",
   "execution_count": 9,
   "metadata": {},
   "outputs": [],
   "source": [
    "heart.rate = data.frame(hr = c(96,110,89,95,128,100,72,79,100,92,106,86,78,124,98,68,75,106,86,108,85,78,118,100,67,74,\n",
    "                              104,92,114,83,83,118,94,71,74,102),subj=gl(9,1,36),time=gl(4,9,36,labels=c(0,30,60,120)))"
   ]
  },
  {
   "cell_type": "code",
   "execution_count": 11,
   "metadata": {},
   "outputs": [
    {
     "name": "stderr",
     "output_type": "stream",
     "text": [
      "The following objects are masked from heart.rate (pos = 3):\n",
      "\n",
      "    hr, subj, time\n",
      "\n",
      "\n"
     ]
    },
    {
     "data": {
      "text/html": [
       "<table>\n",
       "<caption>A anova: 3 × 5</caption>\n",
       "<thead>\n",
       "\t<tr><th></th><th scope=col>Df</th><th scope=col>Sum Sq</th><th scope=col>Mean Sq</th><th scope=col>F value</th><th scope=col>Pr(&gt;F)</th></tr>\n",
       "\t<tr><th></th><th scope=col>&lt;int&gt;</th><th scope=col>&lt;dbl&gt;</th><th scope=col>&lt;dbl&gt;</th><th scope=col>&lt;dbl&gt;</th><th scope=col>&lt;dbl&gt;</th></tr>\n",
       "</thead>\n",
       "<tbody>\n",
       "\t<tr><th scope=row>subj</th><td> 8</td><td>8966.5556</td><td>1120.81944</td><td>90.639086</td><td>4.862680e-16</td></tr>\n",
       "\t<tr><th scope=row>time</th><td> 3</td><td> 150.9722</td><td>  50.32407</td><td> 4.069637</td><td>1.802047e-02</td></tr>\n",
       "\t<tr><th scope=row>Residuals</th><td>24</td><td> 296.7778</td><td>  12.36574</td><td>       NA</td><td>          NA</td></tr>\n",
       "</tbody>\n",
       "</table>\n"
      ],
      "text/latex": [
       "A anova: 3 × 5\n",
       "\\begin{tabular}{r|lllll}\n",
       "  & Df & Sum Sq & Mean Sq & F value & Pr(>F)\\\\\n",
       "  & <int> & <dbl> & <dbl> & <dbl> & <dbl>\\\\\n",
       "\\hline\n",
       "\tsubj &  8 & 8966.5556 & 1120.81944 & 90.639086 & 4.862680e-16\\\\\n",
       "\ttime &  3 &  150.9722 &   50.32407 &  4.069637 & 1.802047e-02\\\\\n",
       "\tResiduals & 24 &  296.7778 &   12.36574 &        NA &           NA\\\\\n",
       "\\end{tabular}\n"
      ],
      "text/markdown": [
       "\n",
       "A anova: 3 × 5\n",
       "\n",
       "| <!--/--> | Df &lt;int&gt; | Sum Sq &lt;dbl&gt; | Mean Sq &lt;dbl&gt; | F value &lt;dbl&gt; | Pr(&gt;F) &lt;dbl&gt; |\n",
       "|---|---|---|---|---|---|\n",
       "| subj |  8 | 8966.5556 | 1120.81944 | 90.639086 | 4.862680e-16 |\n",
       "| time |  3 |  150.9722 |   50.32407 |  4.069637 | 1.802047e-02 |\n",
       "| Residuals | 24 |  296.7778 |   12.36574 |        NA |           NA |\n",
       "\n"
      ],
      "text/plain": [
       "          Df Sum Sq    Mean Sq    F value   Pr(>F)      \n",
       "subj       8 8966.5556 1120.81944 90.639086 4.862680e-16\n",
       "time       3  150.9722   50.32407  4.069637 1.802047e-02\n",
       "Residuals 24  296.7778   12.36574        NA           NA"
      ]
     },
     "metadata": {},
     "output_type": "display_data"
    }
   ],
   "source": [
    "attach(heart.rate)\n",
    "anova(lm(hr~subj+time))"
   ]
  },
  {
   "cell_type": "markdown",
   "metadata": {},
   "source": [
    "## Single proportions"
   ]
  },
  {
   "cell_type": "markdown",
   "metadata": {},
   "source": [
    "#### Hypothesis testing p = p_0"
   ]
  },
  {
   "cell_type": "markdown",
   "metadata": {},
   "source": [
    "#### u = (x-Np_0)/sqrt(Np_0(1-p_0))"
   ]
  },
  {
   "cell_type": "code",
   "execution_count": 12,
   "metadata": {},
   "outputs": [
    {
     "data": {
      "text/plain": [
       "\n",
       "\t1-sample proportions test with continuity correction\n",
       "\n",
       "data:  39 out of 215, null probability 0.15\n",
       "X-squared = 1.425, df = 1, p-value = 0.2326\n",
       "alternative hypothesis: true p is not equal to 0.15\n",
       "95 percent confidence interval:\n",
       " 0.1335937 0.2408799\n",
       "sample estimates:\n",
       "        p \n",
       "0.1813953 \n"
      ]
     },
     "metadata": {},
     "output_type": "display_data"
    }
   ],
   "source": [
    "prop.test(39,215,0.15)"
   ]
  },
  {
   "cell_type": "code",
   "execution_count": 13,
   "metadata": {},
   "outputs": [
    {
     "data": {
      "text/plain": [
       "\n",
       "\tExact binomial test\n",
       "\n",
       "data:  39 and 215\n",
       "number of successes = 39, number of trials = 215, p-value = 0.2135\n",
       "alternative hypothesis: true probability of success is not equal to 0.15\n",
       "95 percent confidence interval:\n",
       " 0.1322842 0.2395223\n",
       "sample estimates:\n",
       "probability of success \n",
       "             0.1813953 \n"
      ]
     },
     "metadata": {},
     "output_type": "display_data"
    }
   ],
   "source": [
    "binom.test(39,215,0.15)"
   ]
  },
  {
   "cell_type": "markdown",
   "metadata": {},
   "source": [
    "## Two Independent proportions"
   ]
  },
  {
   "cell_type": "code",
   "execution_count": 15,
   "metadata": {},
   "outputs": [
    {
     "data": {
      "text/plain": [
       "\n",
       "\t2-sample test for equality of proportions with continuity correction\n",
       "\n",
       "data:  lewitt.machin.success out of lewitt.machin.total\n",
       "X-squared = 3.2793, df = 1, p-value = 0.07016\n",
       "alternative hypothesis: two.sided\n",
       "95 percent confidence interval:\n",
       " 0.01151032 0.87310506\n",
       "sample estimates:\n",
       "   prop 1    prop 2 \n",
       "0.7500000 0.3076923 \n"
      ]
     },
     "metadata": {},
     "output_type": "display_data"
    }
   ],
   "source": [
    "lewitt.machin.success = c(9,4)\n",
    "lewitt.machin.total   = c(12,13)\n",
    "prop.test(lewitt.machin.success,lewitt.machin.total)"
   ]
  },
  {
   "cell_type": "markdown",
   "metadata": {},
   "source": [
    "## r X c tables"
   ]
  },
  {
   "cell_type": "code",
   "execution_count": 19,
   "metadata": {},
   "outputs": [
    {
     "data": {
      "text/plain": [
       "\n",
       "\tPearson's Chi-squared test\n",
       "\n",
       "data:  caff.marital\n",
       "X-squared = 51.656, df = 6, p-value = 2.187e-09\n"
      ]
     },
     "metadata": {},
     "output_type": "display_data"
    }
   ],
   "source": [
    "caff.marital = matrix(c(652,1537,598,242,36,46,38,21,218,327,106,67),nrow=3,byrow=T)\n",
    "colnames(caff.marital) = c(\"0\",\"1-150\",\"151-300\",\">300\")\n",
    "rownames(caff.marital) = c(\"Married\",\"Prev.married\",\"Single\")\n",
    "chisq.test(caff.marital)"
   ]
  }
 ],
 "metadata": {
  "kernelspec": {
   "display_name": "R",
   "language": "R",
   "name": "ir"
  },
  "language_info": {
   "codemirror_mode": "r",
   "file_extension": ".r",
   "mimetype": "text/x-r-source",
   "name": "R",
   "pygments_lexer": "r",
   "version": "3.5.3"
  }
 },
 "nbformat": 4,
 "nbformat_minor": 2
}
