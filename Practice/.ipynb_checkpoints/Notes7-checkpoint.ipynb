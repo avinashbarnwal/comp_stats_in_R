{
 "cells": [
  {
   "cell_type": "markdown",
   "metadata": {},
   "source": [
    "## Logistic Regression"
   ]
  },
  {
   "cell_type": "code",
   "execution_count": 2,
   "metadata": {},
   "outputs": [
    {
     "data": {
      "text/html": [
       "<table>\n",
       "<caption>A data.frame: 8 × 5</caption>\n",
       "<thead>\n",
       "\t<tr><th scope=col>smoking</th><th scope=col>obesity</th><th scope=col>snoring</th><th scope=col>n.tot</th><th scope=col>n.hyp</th></tr>\n",
       "\t<tr><th scope=col>&lt;fct&gt;</th><th scope=col>&lt;fct&gt;</th><th scope=col>&lt;fct&gt;</th><th scope=col>&lt;dbl&gt;</th><th scope=col>&lt;dbl&gt;</th></tr>\n",
       "</thead>\n",
       "<tbody>\n",
       "\t<tr><td>No </td><td>No </td><td>No </td><td> 60</td><td> 5</td></tr>\n",
       "\t<tr><td>Yes</td><td>No </td><td>No </td><td> 17</td><td> 2</td></tr>\n",
       "\t<tr><td>No </td><td>Yes</td><td>No </td><td>  8</td><td> 1</td></tr>\n",
       "\t<tr><td>Yes</td><td>Yes</td><td>No </td><td>  2</td><td> 0</td></tr>\n",
       "\t<tr><td>No </td><td>No </td><td>Yes</td><td>187</td><td>35</td></tr>\n",
       "\t<tr><td>Yes</td><td>No </td><td>Yes</td><td> 85</td><td>13</td></tr>\n",
       "\t<tr><td>No </td><td>Yes</td><td>Yes</td><td> 51</td><td>15</td></tr>\n",
       "\t<tr><td>Yes</td><td>Yes</td><td>Yes</td><td> 23</td><td> 8</td></tr>\n",
       "</tbody>\n",
       "</table>\n"
      ],
      "text/latex": [
       "A data.frame: 8 × 5\n",
       "\\begin{tabular}{r|lllll}\n",
       " smoking & obesity & snoring & n.tot & n.hyp\\\\\n",
       " <fct> & <fct> & <fct> & <dbl> & <dbl>\\\\\n",
       "\\hline\n",
       "\t No  & No  & No  &  60 &  5\\\\\n",
       "\t Yes & No  & No  &  17 &  2\\\\\n",
       "\t No  & Yes & No  &   8 &  1\\\\\n",
       "\t Yes & Yes & No  &   2 &  0\\\\\n",
       "\t No  & No  & Yes & 187 & 35\\\\\n",
       "\t Yes & No  & Yes &  85 & 13\\\\\n",
       "\t No  & Yes & Yes &  51 & 15\\\\\n",
       "\t Yes & Yes & Yes &  23 &  8\\\\\n",
       "\\end{tabular}\n"
      ],
      "text/markdown": [
       "\n",
       "A data.frame: 8 × 5\n",
       "\n",
       "| smoking &lt;fct&gt; | obesity &lt;fct&gt; | snoring &lt;fct&gt; | n.tot &lt;dbl&gt; | n.hyp &lt;dbl&gt; |\n",
       "|---|---|---|---|---|\n",
       "| No  | No  | No  |  60 |  5 |\n",
       "| Yes | No  | No  |  17 |  2 |\n",
       "| No  | Yes | No  |   8 |  1 |\n",
       "| Yes | Yes | No  |   2 |  0 |\n",
       "| No  | No  | Yes | 187 | 35 |\n",
       "| Yes | No  | Yes |  85 | 13 |\n",
       "| No  | Yes | Yes |  51 | 15 |\n",
       "| Yes | Yes | Yes |  23 |  8 |\n",
       "\n"
      ],
      "text/plain": [
       "  smoking obesity snoring n.tot n.hyp\n",
       "1 No      No      No       60    5   \n",
       "2 Yes     No      No       17    2   \n",
       "3 No      Yes     No        8    1   \n",
       "4 Yes     Yes     No        2    0   \n",
       "5 No      No      Yes     187   35   \n",
       "6 Yes     No      Yes      85   13   \n",
       "7 No      Yes     Yes      51   15   \n",
       "8 Yes     Yes     Yes      23    8   "
      ]
     },
     "metadata": {},
     "output_type": "display_data"
    }
   ],
   "source": [
    "no.yes  = c(\"No\",\"Yes\")\n",
    "smoking = gl(2,1,8,no.yes)\n",
    "obesity = gl(2,2,8,no.yes)\n",
    "snoring = gl(2,4,8,no.yes)\n",
    "n.tot   = c(60,17,8,2,187,85,51,23)\n",
    "n.hyp   = c(5,2,1,0,35,13,15,8)\n",
    "data.frame(smoking,obesity,snoring,n.tot,n.hyp)"
   ]
  },
  {
   "cell_type": "code",
   "execution_count": 4,
   "metadata": {},
   "outputs": [
    {
     "data": {
      "text/plain": [
       "\n",
       "Call:\n",
       "glm(formula = hyp.tbl ~ smoking + obesity + snoring, family = binomial(\"logit\"))\n",
       "\n",
       "Deviance Residuals: \n",
       "       1         2         3         4         5         6         7         8  \n",
       "-0.04344   0.54145  -0.25476  -0.80051   0.19759  -0.46602  -0.21262   0.56231  \n",
       "\n",
       "Coefficients:\n",
       "            Estimate Std. Error z value Pr(>|z|)    \n",
       "(Intercept) -2.37766    0.38018  -6.254    4e-10 ***\n",
       "smokingYes  -0.06777    0.27812  -0.244   0.8075    \n",
       "obesityYes   0.69531    0.28509   2.439   0.0147 *  \n",
       "snoringYes   0.87194    0.39757   2.193   0.0283 *  \n",
       "---\n",
       "Signif. codes:  0 ‘***’ 0.001 ‘**’ 0.01 ‘*’ 0.05 ‘.’ 0.1 ‘ ’ 1\n",
       "\n",
       "(Dispersion parameter for binomial family taken to be 1)\n",
       "\n",
       "    Null deviance: 14.1259  on 7  degrees of freedom\n",
       "Residual deviance:  1.6184  on 4  degrees of freedom\n",
       "AIC: 34.537\n",
       "\n",
       "Number of Fisher Scoring iterations: 4\n"
      ]
     },
     "metadata": {},
     "output_type": "display_data"
    }
   ],
   "source": [
    "hyp.tbl = cbind(n.hyp,n.tot-n.hyp)\n",
    "glm.hyp = glm(hyp.tbl~smoking+obesity+snoring,family=binomial(\"logit\"))\n",
    "summary(glm.hyp)"
   ]
  },
  {
   "cell_type": "code",
   "execution_count": 6,
   "metadata": {},
   "outputs": [
    {
     "data": {
      "text/html": [
       "<table>\n",
       "<caption>A anova: 4 × 5</caption>\n",
       "<thead>\n",
       "\t<tr><th></th><th scope=col>Df</th><th scope=col>Deviance</th><th scope=col>Resid. Df</th><th scope=col>Resid. Dev</th><th scope=col>Pr(&gt;Chi)</th></tr>\n",
       "\t<tr><th></th><th scope=col>&lt;int&gt;</th><th scope=col>&lt;dbl&gt;</th><th scope=col>&lt;int&gt;</th><th scope=col>&lt;dbl&gt;</th><th scope=col>&lt;dbl&gt;</th></tr>\n",
       "</thead>\n",
       "<tbody>\n",
       "\t<tr><th scope=row>NULL</th><td>NA</td><td>         NA</td><td>7</td><td>14.125900</td><td>        NA</td></tr>\n",
       "\t<tr><th scope=row>smoking</th><td> 1</td><td>0.002184154</td><td>6</td><td>14.123716</td><td>0.96272449</td></tr>\n",
       "\t<tr><th scope=row>obesity</th><td> 1</td><td>6.827367115</td><td>5</td><td> 7.296349</td><td>0.00897715</td></tr>\n",
       "\t<tr><th scope=row>snoring</th><td> 1</td><td>5.677946593</td><td>4</td><td> 1.618403</td><td>0.01717946</td></tr>\n",
       "</tbody>\n",
       "</table>\n"
      ],
      "text/latex": [
       "A anova: 4 × 5\n",
       "\\begin{tabular}{r|lllll}\n",
       "  & Df & Deviance & Resid. Df & Resid. Dev & Pr(>Chi)\\\\\n",
       "  & <int> & <dbl> & <int> & <dbl> & <dbl>\\\\\n",
       "\\hline\n",
       "\tNULL & NA &          NA & 7 & 14.125900 &         NA\\\\\n",
       "\tsmoking &  1 & 0.002184154 & 6 & 14.123716 & 0.96272449\\\\\n",
       "\tobesity &  1 & 6.827367115 & 5 &  7.296349 & 0.00897715\\\\\n",
       "\tsnoring &  1 & 5.677946593 & 4 &  1.618403 & 0.01717946\\\\\n",
       "\\end{tabular}\n"
      ],
      "text/markdown": [
       "\n",
       "A anova: 4 × 5\n",
       "\n",
       "| <!--/--> | Df &lt;int&gt; | Deviance &lt;dbl&gt; | Resid. Df &lt;int&gt; | Resid. Dev &lt;dbl&gt; | Pr(&gt;Chi) &lt;dbl&gt; |\n",
       "|---|---|---|---|---|---|\n",
       "| NULL | NA |          NA | 7 | 14.125900 |         NA |\n",
       "| smoking |  1 | 0.002184154 | 6 | 14.123716 | 0.96272449 |\n",
       "| obesity |  1 | 6.827367115 | 5 |  7.296349 | 0.00897715 |\n",
       "| snoring |  1 | 5.677946593 | 4 |  1.618403 | 0.01717946 |\n",
       "\n"
      ],
      "text/plain": [
       "        Df Deviance    Resid. Df Resid. Dev Pr(>Chi)  \n",
       "NULL    NA          NA 7         14.125900          NA\n",
       "smoking  1 0.002184154 6         14.123716  0.96272449\n",
       "obesity  1 6.827367115 5          7.296349  0.00897715\n",
       "snoring  1 5.677946593 4          1.618403  0.01717946"
      ]
     },
     "metadata": {},
     "output_type": "display_data"
    }
   ],
   "source": [
    "anova(glm.hyp,test=\"Chisq\")"
   ]
  },
  {
   "cell_type": "markdown",
   "metadata": {},
   "source": [
    "## Poisson Regression"
   ]
  }
 ],
 "metadata": {
  "kernelspec": {
   "display_name": "R",
   "language": "R",
   "name": "ir"
  },
  "language_info": {
   "codemirror_mode": "r",
   "file_extension": ".r",
   "mimetype": "text/x-r-source",
   "name": "R",
   "pygments_lexer": "r",
   "version": "3.5.3"
  }
 },
 "nbformat": 4,
 "nbformat_minor": 2
}
