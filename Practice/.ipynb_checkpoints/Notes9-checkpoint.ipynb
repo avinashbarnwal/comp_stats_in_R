{
 "cells": [
  {
   "cell_type": "markdown",
   "metadata": {},
   "source": [
    "## Generate chi-squared r.v. with df = 3"
   ]
  },
  {
   "cell_type": "code",
   "execution_count": 4,
   "metadata": {},
   "outputs": [],
   "source": [
    "n     = 3000\n",
    "X     = matrix(rnorm(n),nrow=1000)\n",
    "chisq = rowSums(X^2)"
   ]
  },
  {
   "cell_type": "markdown",
   "metadata": {},
   "source": [
    "## Generate Mixture Model of 3 Normal Distribution"
   ]
  },
  {
   "cell_type": "code",
   "execution_count": 9,
   "metadata": {},
   "outputs": [],
   "source": [
    "n = 10000\n",
    "S = sample(c(1:3),10000,prob=c(0.2,0.5,0.3),replace=TRUE)\n",
    "X = rep(NA,10000)\n",
    "X[S==1] = rnorm(length(which(S==1)),0,1)\n",
    "X[S==2] = rnorm(length(which(S==2)),-1,1)\n",
    "X[S==3] = rnorm(length(which(S==3)),2,1)"
   ]
  },
  {
   "cell_type": "markdown",
   "metadata": {},
   "source": [
    "## Generate Negative Binomial Distribution"
   ]
  },
  {
   "cell_type": "code",
   "execution_count": 11,
   "metadata": {},
   "outputs": [],
   "source": [
    "n = 10000\n",
    "x = rep(NA,n)\n",
    "p = 0.4\n",
    "r = 10\n",
    "lambda = rgamma(n,r,scale=p/(1-p))\n",
    "X      = rpois(n,lambda)"
   ]
  },
  {
   "cell_type": "markdown",
   "metadata": {},
   "source": [
    "## Generate Multivariate Normal Distribution using Spectral Decomposition"
   ]
  },
  {
   "cell_type": "code",
   "execution_count": 14,
   "metadata": {},
   "outputs": [],
   "source": [
    "genmult.eigen <- function(n,mu,sigma){\n",
    "    d     = length(mu)\n",
    "    ev    = eigen(sigma)\n",
    "    eigen.values = ev$values\n",
    "    Delta = diag(sqrt(eigen.values))\n",
    "    P     = ev$vectors\n",
    "    Q     = P%*%Delta%*%t(P)\n",
    "    Z     = matrix(rnorm(n*d),nrow=n)\n",
    "    X     = Z%*%Q + matrix(rep(1,n),ncol=1)%*%mu\n",
    "    return(X)\n",
    "}\n",
    "\n",
    "my.mu    = c(1,1,1)\n",
    "my.sigma = matrix(c(2,1,1,1,2,1,1,1,2),nrow=3)\n",
    "my.X     = genmult.eigen(10000,my.mu,my.sigma)   "
   ]
  },
  {
   "cell_type": "markdown",
   "metadata": {},
   "source": [
    "## Generate Multivariate Normal Distribution using Cholskey Decomposition"
   ]
  },
  {
   "cell_type": "code",
   "execution_count": 15,
   "metadata": {},
   "outputs": [],
   "source": [
    "genmult.chol <- function(n,mu,sigma){\n",
    "    d = length(mu)\n",
    "    Q = chol(sigma)\n",
    "    Z = matrix(rnorm(n*d),nrow=n)\n",
    "    X = Z%*%Q + matrix(rep(1,n),ncol=1)%*%mu\n",
    "    return(X)\n",
    "}\n",
    "my.mu    = c(1,1,1)\n",
    "my.sigma = matrix(c(2,1,1,1,2,1,1,1,2),nrow=3)\n",
    "my.X     = genmult.chol(10000,my.mu,my.sigma) "
   ]
  }
 ],
 "metadata": {
  "kernelspec": {
   "display_name": "R",
   "language": "R",
   "name": "ir"
  },
  "language_info": {
   "codemirror_mode": "r",
   "file_extension": ".r",
   "mimetype": "text/x-r-source",
   "name": "R",
   "pygments_lexer": "r",
   "version": "3.5.3"
  }
 },
 "nbformat": 4,
 "nbformat_minor": 2
}
