{
 "cells": [
  {
   "cell_type": "markdown",
   "metadata": {},
   "source": [
    "## Permutation Test"
   ]
  },
  {
   "cell_type": "code",
   "execution_count": 5,
   "metadata": {},
   "outputs": [
    {
     "data": {
      "text/plain": [
       "\n",
       "\tWelch Two Sample t-test\n",
       "\n",
       "data:  x and y\n",
       "t = 3.7082, df = 14.054, p-value = 0.002325\n",
       "alternative hypothesis: true difference in means is not equal to 0\n",
       "95 percent confidence interval:\n",
       " 0.8016153 2.9991200\n",
       "sample estimates:\n",
       "mean of x mean of y \n",
       " 0.195461 -1.704907 \n"
      ]
     },
     "metadata": {},
     "output_type": "display_data"
    }
   ],
   "source": [
    "set.seed(2)\n",
    "x = rnorm(20)\n",
    "y = rnorm(10,mean = -2)\n",
    "t.test(x,y,alterntive='greater')"
   ]
  },
  {
   "cell_type": "markdown",
   "metadata": {},
   "source": [
    "## Based on permutation test"
   ]
  },
  {
   "cell_type": "code",
   "execution_count": 7,
   "metadata": {},
   "outputs": [],
   "source": [
    "grp    = rep(c(1,2),c(length(x),length(y)))\n",
    "B      = 2000\n",
    "t.stat = numeric(B)\n",
    "z      = c(x,y)\n",
    "for(i in 1:B){\n",
    "    shuffle.id = sample(grp,length(grp),replace=FALSE)\n",
    "    t.stat[i]  = t.test(z[shuffle.id==1],z[shuffle.id==2],alternative='greater')$stat\n",
    "} "
   ]
  },
  {
   "cell_type": "code",
   "execution_count": 9,
   "metadata": {},
   "outputs": [],
   "source": [
    "t.stat0    = t.test(x,y,alterntive='greater')$stat\n",
    "pval.est   = (1+sum(t.stat>t.stat0))/(1+B)"
   ]
  },
  {
   "cell_type": "code",
   "execution_count": 11,
   "metadata": {},
   "outputs": [],
   "source": [
    "ks.stat0   = ks.test(x,y,exact=FALSE)$stat"
   ]
  },
  {
   "cell_type": "code",
   "execution_count": 13,
   "metadata": {},
   "outputs": [],
   "source": [
    "ks.stat = numeric(B)\n",
    "z      = c(x,y)\n",
    "for(i in 1:B){\n",
    "    shuffle.id = sample(grp,length(grp),replace=FALSE)\n",
    "    ks.stat[i]  = ks.test(z[shuffle.id==1],z[shuffle.id==2],exact=FALSE)$stat\n",
    "} \n",
    "pval.est   = (1+sum(ks.stat>ks.stat0))/(1+B)"
   ]
  }
 ],
 "metadata": {
  "kernelspec": {
   "display_name": "R",
   "language": "R",
   "name": "ir"
  },
  "language_info": {
   "codemirror_mode": "r",
   "file_extension": ".r",
   "mimetype": "text/x-r-source",
   "name": "R",
   "pygments_lexer": "r",
   "version": "3.5.3"
  }
 },
 "nbformat": 4,
 "nbformat_minor": 2
}
